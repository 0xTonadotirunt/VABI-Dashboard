{
 "cells": [
  {
   "cell_type": "code",
   "execution_count": 2,
   "metadata": {},
   "outputs": [],
   "source": [
    "import pandas as pd\n",
    "\n",
    "df = pd.read_csv('../raw_data/historical_emissions_agri.csv')"
   ]
  },
  {
   "cell_type": "code",
   "execution_count": 4,
   "metadata": {},
   "outputs": [],
   "source": [
    "df_melted = pd.melt(df, id_vars=['ISO', 'Country','Data source','Sector', 'Gas', 'Unit'], var_name = 'Year', value_name = 'Value')\n",
    "\n"
   ]
  },
  {
   "cell_type": "code",
   "execution_count": 14,
   "metadata": {},
   "outputs": [
    {
     "data": {
      "text/html": [
       "<div>\n",
       "<style scoped>\n",
       "    .dataframe tbody tr th:only-of-type {\n",
       "        vertical-align: middle;\n",
       "    }\n",
       "\n",
       "    .dataframe tbody tr th {\n",
       "        vertical-align: top;\n",
       "    }\n",
       "\n",
       "    .dataframe thead th {\n",
       "        text-align: right;\n",
       "    }\n",
       "</style>\n",
       "<table border=\"1\" class=\"dataframe\">\n",
       "  <thead>\n",
       "    <tr style=\"text-align: right;\">\n",
       "      <th></th>\n",
       "      <th>ISO</th>\n",
       "      <th>Country</th>\n",
       "      <th>Data source</th>\n",
       "      <th>Sector</th>\n",
       "      <th>Gas</th>\n",
       "      <th>Unit</th>\n",
       "      <th>Year</th>\n",
       "      <th>Value</th>\n",
       "      <th>Timestamp</th>\n",
       "    </tr>\n",
       "  </thead>\n",
       "  <tbody>\n",
       "    <tr>\n",
       "      <th>0</th>\n",
       "      <td>WORLD</td>\n",
       "      <td>World</td>\n",
       "      <td>Climate Watch</td>\n",
       "      <td>Agriculture</td>\n",
       "      <td>All GHG</td>\n",
       "      <td>MtCO₂e</td>\n",
       "      <td>2021</td>\n",
       "      <td>5864.00</td>\n",
       "      <td>2021-01-01</td>\n",
       "    </tr>\n",
       "    <tr>\n",
       "      <th>1</th>\n",
       "      <td>WORLD</td>\n",
       "      <td>World</td>\n",
       "      <td>Climate Watch</td>\n",
       "      <td>Agriculture</td>\n",
       "      <td>CH4</td>\n",
       "      <td>MtCO₂e</td>\n",
       "      <td>2021</td>\n",
       "      <td>3551.32</td>\n",
       "      <td>2021-01-01</td>\n",
       "    </tr>\n",
       "    <tr>\n",
       "      <th>2</th>\n",
       "      <td>WORLD</td>\n",
       "      <td>World</td>\n",
       "      <td>Climate Watch</td>\n",
       "      <td>Agriculture</td>\n",
       "      <td>N2O</td>\n",
       "      <td>MtCO₂e</td>\n",
       "      <td>2021</td>\n",
       "      <td>2312.67</td>\n",
       "      <td>2021-01-01</td>\n",
       "    </tr>\n",
       "    <tr>\n",
       "      <th>3</th>\n",
       "      <td>IND</td>\n",
       "      <td>India</td>\n",
       "      <td>Climate Watch</td>\n",
       "      <td>Agriculture</td>\n",
       "      <td>All GHG</td>\n",
       "      <td>MtCO₂e</td>\n",
       "      <td>2021</td>\n",
       "      <td>752.08</td>\n",
       "      <td>2021-01-01</td>\n",
       "    </tr>\n",
       "    <tr>\n",
       "      <th>4</th>\n",
       "      <td>CHN</td>\n",
       "      <td>China</td>\n",
       "      <td>Climate Watch</td>\n",
       "      <td>Agriculture</td>\n",
       "      <td>All GHG</td>\n",
       "      <td>MtCO₂e</td>\n",
       "      <td>2021</td>\n",
       "      <td>634.40</td>\n",
       "      <td>2021-01-01</td>\n",
       "    </tr>\n",
       "  </tbody>\n",
       "</table>\n",
       "</div>"
      ],
      "text/plain": [
       "     ISO Country    Data source       Sector      Gas    Unit  Year    Value  \\\n",
       "0  WORLD   World  Climate Watch  Agriculture  All GHG  MtCO₂e  2021  5864.00   \n",
       "1  WORLD   World  Climate Watch  Agriculture      CH4  MtCO₂e  2021  3551.32   \n",
       "2  WORLD   World  Climate Watch  Agriculture      N2O  MtCO₂e  2021  2312.67   \n",
       "3    IND   India  Climate Watch  Agriculture  All GHG  MtCO₂e  2021   752.08   \n",
       "4    CHN   China  Climate Watch  Agriculture  All GHG  MtCO₂e  2021   634.40   \n",
       "\n",
       "   Timestamp  \n",
       "0 2021-01-01  \n",
       "1 2021-01-01  \n",
       "2 2021-01-01  \n",
       "3 2021-01-01  \n",
       "4 2021-01-01  "
      ]
     },
     "execution_count": 14,
     "metadata": {},
     "output_type": "execute_result"
    }
   ],
   "source": [
    "df_melted.head()\n",
    "\n",
    "\n",
    "df_melted['Timestamp'] = pd.to_datetime(df_melted['Year'])\n",
    "\n",
    "df_melted.head()\n",
    "\n"
   ]
  },
  {
   "cell_type": "code",
   "execution_count": 15,
   "metadata": {},
   "outputs": [
    {
     "data": {
      "text/plain": [
       "ISO                    object\n",
       "Country                object\n",
       "Data source            object\n",
       "Sector                 object\n",
       "Gas                    object\n",
       "Unit                   object\n",
       "Year                   object\n",
       "Value                 float64\n",
       "Timestamp      datetime64[ns]\n",
       "dtype: object"
      ]
     },
     "execution_count": 15,
     "metadata": {},
     "output_type": "execute_result"
    }
   ],
   "source": [
    "df_melted.dtypes"
   ]
  },
  {
   "cell_type": "code",
   "execution_count": 17,
   "metadata": {},
   "outputs": [],
   "source": [
    "df_melted.to_csv('../backend/data/cleaned/agri_emissions.csv')"
   ]
  },
  {
   "cell_type": "code",
   "execution_count": null,
   "metadata": {},
   "outputs": [],
   "source": []
  }
 ],
 "metadata": {
  "kernelspec": {
   "display_name": "Python 3",
   "language": "python",
   "name": "python3"
  },
  "language_info": {
   "codemirror_mode": {
    "name": "ipython",
    "version": 3
   },
   "file_extension": ".py",
   "mimetype": "text/x-python",
   "name": "python",
   "nbconvert_exporter": "python",
   "pygments_lexer": "ipython3",
   "version": "3.9.10"
  },
  "orig_nbformat": 4,
  "vscode": {
   "interpreter": {
    "hash": "6c789a6d546d9f652c091bb5ffbce22294d5fffc1749e524096347beed62f20e"
   }
  }
 },
 "nbformat": 4,
 "nbformat_minor": 2
}
