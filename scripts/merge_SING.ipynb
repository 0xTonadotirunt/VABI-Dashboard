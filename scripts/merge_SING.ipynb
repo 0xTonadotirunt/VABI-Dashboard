{
 "cells": [
  {
   "cell_type": "code",
   "execution_count": 3,
   "metadata": {},
   "outputs": [
    {
     "name": "stdout",
     "output_type": "stream",
     "text": [
      "Collecting ydata-profiling\n",
      "  Downloading ydata_profiling-4.10.0-py2.py3-none-any.whl.metadata (20 kB)\n",
      "Requirement already satisfied: scipy<1.14,>=1.4.1 in c:\\users\\iamam\\appdata\\local\\programs\\python\\python39\\lib\\site-packages (from ydata-profiling) (1.9.3)\n",
      "Collecting pandas!=1.4.0,<3,>1.1 (from ydata-profiling)\n",
      "  Downloading pandas-2.2.3-cp39-cp39-win_amd64.whl.metadata (19 kB)\n",
      "Requirement already satisfied: matplotlib<3.10,>=3.5 in c:\\users\\iamam\\appdata\\local\\programs\\python\\python39\\lib\\site-packages (from ydata-profiling) (3.6.2)\n",
      "Requirement already satisfied: pydantic>=2 in c:\\users\\iamam\\appdata\\local\\programs\\python\\python39\\lib\\site-packages (from ydata-profiling) (2.8.2)\n",
      "Requirement already satisfied: PyYAML<6.1,>=5.0.0 in c:\\users\\iamam\\appdata\\local\\programs\\python\\python39\\lib\\site-packages (from ydata-profiling) (6.0)\n",
      "Requirement already satisfied: jinja2<3.2,>=2.11.1 in c:\\users\\iamam\\appdata\\local\\programs\\python\\python39\\lib\\site-packages (from ydata-profiling) (3.1.3)\n",
      "Collecting visions<0.7.7,>=0.7.5 (from visions[type_image_path]<0.7.7,>=0.7.5->ydata-profiling)\n",
      "  Downloading visions-0.7.6-py3-none-any.whl.metadata (11 kB)\n",
      "Requirement already satisfied: numpy<2.2,>=1.16.0 in c:\\users\\iamam\\appdata\\local\\programs\\python\\python39\\lib\\site-packages (from ydata-profiling) (1.22.1)\n",
      "Collecting htmlmin==0.1.12 (from ydata-profiling)\n",
      "  Downloading htmlmin-0.1.12.tar.gz (19 kB)\n",
      "  Preparing metadata (setup.py): started\n",
      "  Preparing metadata (setup.py): finished with status 'done'\n",
      "Collecting phik<0.13,>=0.11.1 (from ydata-profiling)\n",
      "  Downloading phik-0.12.4-cp39-cp39-win_amd64.whl.metadata (5.6 kB)\n",
      "Requirement already satisfied: requests<3,>=2.24.0 in c:\\users\\iamam\\appdata\\local\\programs\\python\\python39\\lib\\site-packages (from ydata-profiling) (2.27.1)\n",
      "Requirement already satisfied: tqdm<5,>=4.48.2 in c:\\users\\iamam\\appdata\\local\\programs\\python\\python39\\lib\\site-packages (from ydata-profiling) (4.63.0)\n",
      "Requirement already satisfied: seaborn<0.14,>=0.10.1 in c:\\users\\iamam\\appdata\\local\\programs\\python\\python39\\lib\\site-packages (from ydata-profiling) (0.12.2)\n",
      "Collecting multimethod<2,>=1.4 (from ydata-profiling)\n",
      "  Downloading multimethod-1.12-py3-none-any.whl.metadata (9.6 kB)\n",
      "Requirement already satisfied: statsmodels<1,>=0.13.2 in c:\\users\\iamam\\appdata\\local\\programs\\python\\python39\\lib\\site-packages (from ydata-profiling) (0.13.2)\n",
      "Collecting typeguard<5,>=3 (from ydata-profiling)\n",
      "  Downloading typeguard-4.3.0-py3-none-any.whl.metadata (3.7 kB)\n",
      "Collecting imagehash==4.3.1 (from ydata-profiling)\n",
      "  Downloading ImageHash-4.3.1-py2.py3-none-any.whl.metadata (8.0 kB)\n",
      "Collecting wordcloud>=1.9.3 (from ydata-profiling)\n",
      "  Downloading wordcloud-1.9.3-cp39-cp39-win_amd64.whl.metadata (3.5 kB)\n",
      "Collecting dacite>=1.8 (from ydata-profiling)\n",
      "  Downloading dacite-1.8.1-py3-none-any.whl.metadata (15 kB)\n",
      "Collecting numba<1,>=0.56.0 (from ydata-profiling)\n",
      "  Downloading numba-0.60.0-cp39-cp39-win_amd64.whl.metadata (2.8 kB)\n",
      "Collecting PyWavelets (from imagehash==4.3.1->ydata-profiling)\n",
      "  Downloading pywavelets-1.6.0-cp39-cp39-win_amd64.whl.metadata (9.0 kB)\n",
      "Requirement already satisfied: pillow in c:\\users\\iamam\\appdata\\local\\programs\\python\\python39\\lib\\site-packages (from imagehash==4.3.1->ydata-profiling) (8.3.2)\n",
      "Requirement already satisfied: MarkupSafe>=2.0 in c:\\users\\iamam\\appdata\\local\\programs\\python\\python39\\lib\\site-packages (from jinja2<3.2,>=2.11.1->ydata-profiling) (2.0.1)\n",
      "Requirement already satisfied: contourpy>=1.0.1 in c:\\users\\iamam\\appdata\\local\\programs\\python\\python39\\lib\\site-packages (from matplotlib<3.10,>=3.5->ydata-profiling) (1.0.6)\n",
      "Requirement already satisfied: cycler>=0.10 in c:\\users\\iamam\\appdata\\local\\programs\\python\\python39\\lib\\site-packages (from matplotlib<3.10,>=3.5->ydata-profiling) (0.11.0)\n",
      "Requirement already satisfied: fonttools>=4.22.0 in c:\\users\\iamam\\appdata\\local\\programs\\python\\python39\\lib\\site-packages (from matplotlib<3.10,>=3.5->ydata-profiling) (4.29.1)\n",
      "Requirement already satisfied: kiwisolver>=1.0.1 in c:\\users\\iamam\\appdata\\local\\programs\\python\\python39\\lib\\site-packages (from matplotlib<3.10,>=3.5->ydata-profiling) (1.3.2)\n",
      "Requirement already satisfied: packaging>=20.0 in c:\\users\\iamam\\appdata\\local\\programs\\python\\python39\\lib\\site-packages (from matplotlib<3.10,>=3.5->ydata-profiling) (21.3)\n",
      "Requirement already satisfied: pyparsing>=2.2.1 in c:\\users\\iamam\\appdata\\local\\programs\\python\\python39\\lib\\site-packages (from matplotlib<3.10,>=3.5->ydata-profiling) (3.0.7)\n",
      "Requirement already satisfied: python-dateutil>=2.7 in c:\\users\\iamam\\appdata\\local\\programs\\python\\python39\\lib\\site-packages (from matplotlib<3.10,>=3.5->ydata-profiling) (2.8.2)\n",
      "Collecting llvmlite<0.44,>=0.43.0dev0 (from numba<1,>=0.56.0->ydata-profiling)\n",
      "  Downloading llvmlite-0.43.0-cp39-cp39-win_amd64.whl.metadata (4.9 kB)\n",
      "Collecting numpy<2.2,>=1.16.0 (from ydata-profiling)\n",
      "  Downloading numpy-2.0.2-cp39-cp39-win_amd64.whl.metadata (59 kB)\n",
      "     ---------------------------------------- 59.7/59.7 kB 3.1 MB/s eta 0:00:00\n",
      "Requirement already satisfied: pytz>=2020.1 in c:\\users\\iamam\\appdata\\local\\programs\\python\\python39\\lib\\site-packages (from pandas!=1.4.0,<3,>1.1->ydata-profiling) (2021.3)\n",
      "Collecting tzdata>=2022.7 (from pandas!=1.4.0,<3,>1.1->ydata-profiling)\n",
      "  Downloading tzdata-2024.2-py2.py3-none-any.whl.metadata (1.4 kB)\n",
      "Requirement already satisfied: joblib>=0.14.1 in c:\\users\\iamam\\appdata\\local\\programs\\python\\python39\\lib\\site-packages (from phik<0.13,>=0.11.1->ydata-profiling) (1.2.0)\n",
      "Requirement already satisfied: annotated-types>=0.4.0 in c:\\users\\iamam\\appdata\\local\\programs\\python\\python39\\lib\\site-packages (from pydantic>=2->ydata-profiling) (0.7.0)\n",
      "Requirement already satisfied: pydantic-core==2.20.1 in c:\\users\\iamam\\appdata\\local\\programs\\python\\python39\\lib\\site-packages (from pydantic>=2->ydata-profiling) (2.20.1)\n",
      "Requirement already satisfied: typing-extensions>=4.6.1 in c:\\users\\iamam\\appdata\\local\\programs\\python\\python39\\lib\\site-packages (from pydantic>=2->ydata-profiling) (4.12.2)\n",
      "Requirement already satisfied: urllib3<1.27,>=1.21.1 in c:\\users\\iamam\\appdata\\local\\programs\\python\\python39\\lib\\site-packages (from requests<3,>=2.24.0->ydata-profiling) (1.26.18)\n",
      "Requirement already satisfied: certifi>=2017.4.17 in c:\\users\\iamam\\appdata\\local\\programs\\python\\python39\\lib\\site-packages (from requests<3,>=2.24.0->ydata-profiling) (2023.7.22)\n",
      "Requirement already satisfied: charset-normalizer~=2.0.0 in c:\\users\\iamam\\appdata\\local\\programs\\python\\python39\\lib\\site-packages (from requests<3,>=2.24.0->ydata-profiling) (2.0.11)\n",
      "Requirement already satisfied: idna<4,>=2.5 in c:\\users\\iamam\\appdata\\local\\programs\\python\\python39\\lib\\site-packages (from requests<3,>=2.24.0->ydata-profiling) (3.3)\n",
      "Collecting numpy<2.2,>=1.16.0 (from ydata-profiling)\n",
      "  Downloading numpy-1.25.2-cp39-cp39-win_amd64.whl.metadata (5.7 kB)\n",
      "Requirement already satisfied: patsy>=0.5.2 in c:\\users\\iamam\\appdata\\local\\programs\\python\\python39\\lib\\site-packages (from statsmodels<1,>=0.13.2->ydata-profiling) (0.5.2)\n",
      "Requirement already satisfied: colorama in c:\\users\\iamam\\appdata\\local\\programs\\python\\python39\\lib\\site-packages (from tqdm<5,>=4.48.2->ydata-profiling) (0.4.4)\n",
      "Requirement already satisfied: importlib-metadata>=3.6 in c:\\users\\iamam\\appdata\\local\\programs\\python\\python39\\lib\\site-packages (from typeguard<5,>=3->ydata-profiling) (4.11.3)\n",
      "Requirement already satisfied: attrs>=19.3.0 in c:\\users\\iamam\\appdata\\local\\programs\\python\\python39\\lib\\site-packages (from visions<0.7.7,>=0.7.5->visions[type_image_path]<0.7.7,>=0.7.5->ydata-profiling) (21.4.0)\n",
      "Collecting networkx>=2.4 (from visions<0.7.7,>=0.7.5->visions[type_image_path]<0.7.7,>=0.7.5->ydata-profiling)\n",
      "  Downloading networkx-3.2.1-py3-none-any.whl.metadata (5.2 kB)"
     ]
    },
    {
     "name": "stderr",
     "output_type": "stream",
     "text": [
      "WARNING: visions 0.7.6 does not provide the extra 'type-image-path'\n",
      "  WARNING: The script htmlmin.exe is installed in 'c:\\Users\\iamam\\AppData\\Local\\Programs\\Python\\Python39\\Scripts' which is not on PATH.\n",
      "  Consider adding this directory to PATH or, if you prefer to suppress this warning, use --no-warn-script-location.\n",
      "  WARNING: The script f2py.exe is installed in 'c:\\Users\\iamam\\AppData\\Local\\Programs\\Python\\Python39\\Scripts' which is not on PATH.\n",
      "  Consider adding this directory to PATH or, if you prefer to suppress this warning, use --no-warn-script-location.\n",
      "  WARNING: The script wordcloud_cli.exe is installed in 'c:\\Users\\iamam\\AppData\\Local\\Programs\\Python\\Python39\\Scripts' which is not on PATH.\n",
      "  Consider adding this directory to PATH or, if you prefer to suppress this warning, use --no-warn-script-location.\n",
      "  WARNING: The scripts pandas_profiling.exe and ydata_profiling.exe are installed in 'c:\\Users\\iamam\\AppData\\Local\\Programs\\Python\\Python39\\Scripts' which is not on PATH.\n",
      "  Consider adding this directory to PATH or, if you prefer to suppress this warning, use --no-warn-script-location.\n",
      "\n",
      "[notice] A new release of pip is available: 23.3.1 -> 24.2\n",
      "[notice] To update, run: python.exe -m pip install --upgrade pip\n"
     ]
    },
    {
     "name": "stdout",
     "output_type": "stream",
     "text": [
      "\n",
      "Requirement already satisfied: zipp>=0.5 in c:\\users\\iamam\\appdata\\local\\programs\\python\\python39\\lib\\site-packages (from importlib-metadata>=3.6->typeguard<5,>=3->ydata-profiling) (3.7.0)\n",
      "Requirement already satisfied: six in c:\\users\\iamam\\appdata\\local\\programs\\python\\python39\\lib\\site-packages (from patsy>=0.5.2->statsmodels<1,>=0.13.2->ydata-profiling) (1.16.0)\n",
      "Downloading ydata_profiling-4.10.0-py2.py3-none-any.whl (356 kB)\n",
      "   --------------------------------------- 356.2/356.2 kB 11.2 MB/s eta 0:00:00\n",
      "Downloading ImageHash-4.3.1-py2.py3-none-any.whl (296 kB)\n",
      "   ---------------------------------------- 296.5/296.5 kB 9.2 MB/s eta 0:00:00\n",
      "Downloading dacite-1.8.1-py3-none-any.whl (14 kB)\n",
      "Downloading multimethod-1.12-py3-none-any.whl (10 kB)\n",
      "Downloading numba-0.60.0-cp39-cp39-win_amd64.whl (2.7 MB)\n",
      "   ---------------------------------------- 2.7/2.7 MB 21.4 MB/s eta 0:00:00\n",
      "Downloading pandas-2.2.3-cp39-cp39-win_amd64.whl (11.6 MB)\n",
      "   ---------------------------------------- 11.6/11.6 MB 32.8 MB/s eta 0:00:00\n",
      "Downloading phik-0.12.4-cp39-cp39-win_amd64.whl (666 kB)\n",
      "   --------------------------------------- 666.3/666.3 kB 21.2 MB/s eta 0:00:00\n",
      "Downloading numpy-1.25.2-cp39-cp39-win_amd64.whl (15.6 MB)\n",
      "   ---------------------------------------- 15.6/15.6 MB 31.2 MB/s eta 0:00:00\n",
      "Downloading typeguard-4.3.0-py3-none-any.whl (35 kB)\n",
      "Downloading visions-0.7.6-py3-none-any.whl (104 kB)\n",
      "   ---------------------------------------- 104.8/104.8 kB ? eta 0:00:00\n",
      "Downloading wordcloud-1.9.3-cp39-cp39-win_amd64.whl (300 kB)\n",
      "   --------------------------------------- 300.6/300.6 kB 18.1 MB/s eta 0:00:00\n",
      "Downloading llvmlite-0.43.0-cp39-cp39-win_amd64.whl (28.1 MB)\n",
      "   ---------------------------------------- 28.1/28.1 MB 28.5 MB/s eta 0:00:00\n",
      "Downloading networkx-3.2.1-py3-none-any.whl (1.6 MB)\n",
      "   ---------------------------------------- 1.6/1.6 MB 26.4 MB/s eta 0:00:00\n",
      "Downloading tzdata-2024.2-py2.py3-none-any.whl (346 kB)\n",
      "   --------------------------------------- 346.6/346.6 kB 10.8 MB/s eta 0:00:00\n",
      "Downloading pywavelets-1.6.0-cp39-cp39-win_amd64.whl (4.3 MB)\n",
      "   ---------------------------------------- 4.3/4.3 MB 22.7 MB/s eta 0:00:00\n",
      "Building wheels for collected packages: htmlmin\n",
      "  Building wheel for htmlmin (setup.py): started\n",
      "  Building wheel for htmlmin (setup.py): finished with status 'done'\n",
      "  Created wheel for htmlmin: filename=htmlmin-0.1.12-py3-none-any.whl size=27098 sha256=fcb0cfc9f7d0b1c3f6b5d8b8f9377a815a52fe9dbc86bb16bdb44cc483e112cb\n",
      "  Stored in directory: c:\\users\\iamam\\appdata\\local\\pip\\cache\\wheels\\1d\\05\\04\\c6d7d3b66539d9e659ac6dfe81e2d0fd4c1a8316cc5a403300\n",
      "Successfully built htmlmin\n",
      "Installing collected packages: htmlmin, tzdata, numpy, networkx, multimethod, llvmlite, dacite, typeguard, PyWavelets, pandas, numba, visions, imagehash, wordcloud, phik, ydata-profiling\n",
      "  Attempting uninstall: tzdata\n",
      "    Found existing installation: tzdata 2021.5\n",
      "    Uninstalling tzdata-2021.5:\n",
      "      Successfully uninstalled tzdata-2021.5\n",
      "  Attempting uninstall: numpy\n",
      "    Found existing installation: numpy 1.22.1\n",
      "    Uninstalling numpy-1.22.1:\n",
      "      Successfully uninstalled numpy-1.22.1\n",
      "  Attempting uninstall: pandas\n",
      "    Found existing installation: pandas 1.4.0\n",
      "    Uninstalling pandas-1.4.0:\n",
      "      Successfully uninstalled pandas-1.4.0\n",
      "Successfully installed PyWavelets-1.6.0 dacite-1.8.1 htmlmin-0.1.12 imagehash-4.3.1 llvmlite-0.43.0 multimethod-1.12 networkx-3.2.1 numba-0.60.0 numpy-1.25.2 pandas-2.2.3 phik-0.12.4 typeguard-4.3.0 tzdata-2024.2 visions-0.7.6 wordcloud-1.9.3 ydata-profiling-4.10.0\n"
     ]
    }
   ],
   "source": [
    "!python -m pip install ydata-profiling"
   ]
  },
  {
   "cell_type": "code",
   "execution_count": 4,
   "metadata": {},
   "outputs": [],
   "source": [
    "import pandas as pd \n",
    "\n",
    "\n",
    "\n",
    "elec_demand_df = pd.read_csv('data/electricity_demand_SING.csv')\n",
    "elec_gen_df = pd.read_csv('data/renewable_energy_SING.csv')\n"
   ]
  },
  {
   "cell_type": "code",
   "execution_count": 5,
   "metadata": {},
   "outputs": [],
   "source": [
    "elec_demand_df_T = elec_demand_df.transpose()\n",
    "elec_gen_df_T = elec_gen_df.transpose()"
   ]
  },
  {
   "cell_type": "code",
   "execution_count": 6,
   "metadata": {},
   "outputs": [],
   "source": [
    "merged_df = elec_demand_df_T.join(elec_gen_df_T, how=\"inner\", lsuffix='_demand', rsuffix='_gen')"
   ]
  },
  {
   "cell_type": "code",
   "execution_count": 7,
   "metadata": {},
   "outputs": [],
   "source": [
    "import plotly.express as px\n",
    "\n",
    "df = merged_df.reset_index()\n",
    "headers = df.iloc[0]\n",
    "\n",
    "df.columns = headers\n",
    "df = df[1:]\n",
    "\n",
    "fig = px.line(df, x=df['Data Series'], y= df['Electricity Generation'])"
   ]
  },
  {
   "cell_type": "code",
   "execution_count": 8,
   "metadata": {},
   "outputs": [],
   "source": [
    "from ydata_profiling import ProfileReport\n",
    "\n",
    "profile = ProfileReport(df, title=\"EDA for SING data\")\n",
    "\n",
    "\n"
   ]
  },
  {
   "cell_type": "code",
   "execution_count": 10,
   "metadata": {},
   "outputs": [
    {
     "name": "stderr",
     "output_type": "stream",
     "text": [
      "Summarize dataset:   0%|          | 0/5 [00:00<?, ?it/s]c:\\Users\\iamam\\AppData\\Local\\Programs\\Python\\Python39\\lib\\site-packages\\ydata_profiling\\model\\pandas\\summary_pandas.py:39: FutureWarning:\n",
      "\n",
      "Downcasting object dtype arrays on .fillna, .ffill, .bfill is deprecated and will change in a future version. Call result.infer_objects(copy=False) instead. To opt-in to the future behavior, set `pd.set_option('future.no_silent_downcasting', True)`\n",
      "\n",
      "c:\\Users\\iamam\\AppData\\Local\\Programs\\Python\\Python39\\lib\\site-packages\\ydata_profiling\\model\\pandas\\summary_pandas.py:39: FutureWarning:\n",
      "\n",
      "Downcasting object dtype arrays on .fillna, .ffill, .bfill is deprecated and will change in a future version. Call result.infer_objects(copy=False) instead. To opt-in to the future behavior, set `pd.set_option('future.no_silent_downcasting', True)`\n",
      "\n",
      "c:\\Users\\iamam\\AppData\\Local\\Programs\\Python\\Python39\\lib\\site-packages\\ydata_profiling\\model\\pandas\\summary_pandas.py:39: FutureWarning:\n",
      "\n",
      "Downcasting object dtype arrays on .fillna, .ffill, .bfill is deprecated and will change in a future version. Call result.infer_objects(copy=False) instead. To opt-in to the future behavior, set `pd.set_option('future.no_silent_downcasting', True)`\n",
      "\n",
      "c:\\Users\\iamam\\AppData\\Local\\Programs\\Python\\Python39\\lib\\site-packages\\ydata_profiling\\model\\pandas\\summary_pandas.py:39: FutureWarning:\n",
      "\n",
      "Downcasting object dtype arrays on .fillna, .ffill, .bfill is deprecated and will change in a future version. Call result.infer_objects(copy=False) instead. To opt-in to the future behavior, set `pd.set_option('future.no_silent_downcasting', True)`\n",
      "\n",
      "c:\\Users\\iamam\\AppData\\Local\\Programs\\Python\\Python39\\lib\\site-packages\\ydata_profiling\\model\\pandas\\summary_pandas.py:39: FutureWarning:\n",
      "\n",
      "Downcasting object dtype arrays on .fillna, .ffill, .bfill is deprecated and will change in a future version. Call result.infer_objects(copy=False) instead. To opt-in to the future behavior, set `pd.set_option('future.no_silent_downcasting', True)`\n",
      "\n",
      "c:\\Users\\iamam\\AppData\\Local\\Programs\\Python\\Python39\\lib\\site-packages\\ydata_profiling\\model\\pandas\\summary_pandas.py:39: FutureWarning:\n",
      "\n",
      "Downcasting object dtype arrays on .fillna, .ffill, .bfill is deprecated and will change in a future version. Call result.infer_objects(copy=False) instead. To opt-in to the future behavior, set `pd.set_option('future.no_silent_downcasting', True)`\n",
      "\n",
      "c:\\Users\\iamam\\AppData\\Local\\Programs\\Python\\Python39\\lib\\site-packages\\ydata_profiling\\model\\pandas\\summary_pandas.py:39: FutureWarning:\n",
      "\n",
      "Downcasting object dtype arrays on .fillna, .ffill, .bfill is deprecated and will change in a future version. Call result.infer_objects(copy=False) instead. To opt-in to the future behavior, set `pd.set_option('future.no_silent_downcasting', True)`\n",
      "\n",
      "c:\\Users\\iamam\\AppData\\Local\\Programs\\Python\\Python39\\lib\\site-packages\\ydata_profiling\\model\\pandas\\summary_pandas.py:39: FutureWarning:\n",
      "\n",
      "Downcasting object dtype arrays on .fillna, .ffill, .bfill is deprecated and will change in a future version. Call result.infer_objects(copy=False) instead. To opt-in to the future behavior, set `pd.set_option('future.no_silent_downcasting', True)`\n",
      "\n",
      "Summarize dataset:   0%|          | 0/25 [00:00<?, ?it/s, Describe variable:  Industrial-Related]c:\\Users\\iamam\\AppData\\Local\\Programs\\Python\\Python39\\lib\\site-packages\\ydata_profiling\\model\\pandas\\summary_pandas.py:39: FutureWarning:\n",
      "\n",
      "Downcasting object dtype arrays on .fillna, .ffill, .bfill is deprecated and will change in a future version. Call result.infer_objects(copy=False) instead. To opt-in to the future behavior, set `pd.set_option('future.no_silent_downcasting', True)`\n",
      "\n",
      "c:\\Users\\iamam\\AppData\\Local\\Programs\\Python\\Python39\\lib\\site-packages\\ydata_profiling\\model\\pandas\\summary_pandas.py:39: FutureWarning:\n",
      "\n",
      "Downcasting object dtype arrays on .fillna, .ffill, .bfill is deprecated and will change in a future version. Call result.infer_objects(copy=False) instead. To opt-in to the future behavior, set `pd.set_option('future.no_silent_downcasting', True)`\n",
      "\n",
      "c:\\Users\\iamam\\AppData\\Local\\Programs\\Python\\Python39\\lib\\site-packages\\ydata_profiling\\model\\pandas\\summary_pandas.py:39: FutureWarning:\n",
      "\n",
      "Downcasting object dtype arrays on .fillna, .ffill, .bfill is deprecated and will change in a future version. Call result.infer_objects(copy=False) instead. To opt-in to the future behavior, set `pd.set_option('future.no_silent_downcasting', True)`\n",
      "\n",
      "c:\\Users\\iamam\\AppData\\Local\\Programs\\Python\\Python39\\lib\\site-packages\\ydata_profiling\\model\\pandas\\summary_pandas.py:39: FutureWarning:\n",
      "\n",
      "Downcasting object dtype arrays on .fillna, .ffill, .bfill is deprecated and will change in a future version. Call result.infer_objects(copy=False) instead. To opt-in to the future behavior, set `pd.set_option('future.no_silent_downcasting', True)`\n",
      "\n",
      "c:\\Users\\iamam\\AppData\\Local\\Programs\\Python\\Python39\\lib\\site-packages\\ydata_profiling\\model\\pandas\\summary_pandas.py:39: FutureWarning:\n",
      "\n",
      "Downcasting object dtype arrays on .fillna, .ffill, .bfill is deprecated and will change in a future version. Call result.infer_objects(copy=False) instead. To opt-in to the future behavior, set `pd.set_option('future.no_silent_downcasting', True)`\n",
      "\n",
      "Summarize dataset:   4%|▍         | 1/25 [00:00<00:04,  6.00it/s, Describe variable:  Industrial-Related]c:\\Users\\iamam\\AppData\\Local\\Programs\\Python\\Python39\\lib\\site-packages\\ydata_profiling\\model\\pandas\\summary_pandas.py:39: FutureWarning:\n",
      "\n",
      "Downcasting object dtype arrays on .fillna, .ffill, .bfill is deprecated and will change in a future version. Call result.infer_objects(copy=False) instead. To opt-in to the future behavior, set `pd.set_option('future.no_silent_downcasting', True)`\n",
      "\n",
      "Summarize dataset: 100%|██████████| 390/390 [00:56<00:00,  6.89it/s, Completed]                                                                                                                                                           \n",
      "Generate report structure: 100%|██████████| 1/1 [00:05<00:00,  5.85s/it]\n",
      "Render widgets:   0%|          | 0/1 [00:00<?, ?it/s]"
     ]
    },
    {
     "name": "stderr",
     "output_type": "stream",
     "text": [
      "                                                             \r"
     ]
    },
    {
     "data": {
      "application/vnd.jupyter.widget-view+json": {
       "model_id": "4cfbf411f0fb434cba188cdf509c378d",
       "version_major": 2,
       "version_minor": 0
      },
      "text/plain": [
       "VBox(children=(Tab(children=(Tab(children=(GridBox(children=(VBox(children=(GridspecLayout(children=(HTML(valu…"
      ]
     },
     "metadata": {},
     "output_type": "display_data"
    }
   ],
   "source": [
    "profile.to_widgets()"
   ]
  },
  {
   "cell_type": "code",
   "execution_count": 9,
   "metadata": {},
   "outputs": [
    {
     "data": {
      "application/vnd.plotly.v1+json": {
       "config": {
        "plotlyServerURL": "https://plot.ly"
       },
       "data": [
        {
         "hovertemplate": "Data Series=%{x}<br>Electricity Generation=%{y}<extra></extra>",
         "legendgroup": "",
         "line": {
          "color": "#636efa",
          "dash": "solid"
         },
         "marker": {
          "symbol": "circle"
         },
         "mode": "lines",
         "name": "",
         "orientation": "v",
         "showlegend": false,
         "type": "scatter",
         "x": [
          "2021",
          "2020",
          "2019",
          "2018",
          "2017",
          "2016",
          "2015",
          "2014",
          "2013",
          "2012",
          "2011",
          "2010",
          "2009"
         ],
         "xaxis": "x",
         "y": [
          55788.3,
          53071.6,
          54142.3,
          52904.8,
          52225.8,
          51586.6,
          50271.6,
          49309.7,
          47963.5,
          46936.2,
          45999.4,
          45366.5,
          41800.6
         ],
         "yaxis": "y"
        }
       ],
       "layout": {
        "legend": {
         "tracegroupgap": 0
        },
        "margin": {
         "t": 60
        },
        "template": {
         "data": {
          "bar": [
           {
            "error_x": {
             "color": "#2a3f5f"
            },
            "error_y": {
             "color": "#2a3f5f"
            },
            "marker": {
             "line": {
              "color": "#E5ECF6",
              "width": 0.5
             },
             "pattern": {
              "fillmode": "overlay",
              "size": 10,
              "solidity": 0.2
             }
            },
            "type": "bar"
           }
          ],
          "barpolar": [
           {
            "marker": {
             "line": {
              "color": "#E5ECF6",
              "width": 0.5
             },
             "pattern": {
              "fillmode": "overlay",
              "size": 10,
              "solidity": 0.2
             }
            },
            "type": "barpolar"
           }
          ],
          "carpet": [
           {
            "aaxis": {
             "endlinecolor": "#2a3f5f",
             "gridcolor": "white",
             "linecolor": "white",
             "minorgridcolor": "white",
             "startlinecolor": "#2a3f5f"
            },
            "baxis": {
             "endlinecolor": "#2a3f5f",
             "gridcolor": "white",
             "linecolor": "white",
             "minorgridcolor": "white",
             "startlinecolor": "#2a3f5f"
            },
            "type": "carpet"
           }
          ],
          "choropleth": [
           {
            "colorbar": {
             "outlinewidth": 0,
             "ticks": ""
            },
            "type": "choropleth"
           }
          ],
          "contour": [
           {
            "colorbar": {
             "outlinewidth": 0,
             "ticks": ""
            },
            "colorscale": [
             [
              0,
              "#0d0887"
             ],
             [
              0.1111111111111111,
              "#46039f"
             ],
             [
              0.2222222222222222,
              "#7201a8"
             ],
             [
              0.3333333333333333,
              "#9c179e"
             ],
             [
              0.4444444444444444,
              "#bd3786"
             ],
             [
              0.5555555555555556,
              "#d8576b"
             ],
             [
              0.6666666666666666,
              "#ed7953"
             ],
             [
              0.7777777777777778,
              "#fb9f3a"
             ],
             [
              0.8888888888888888,
              "#fdca26"
             ],
             [
              1,
              "#f0f921"
             ]
            ],
            "type": "contour"
           }
          ],
          "contourcarpet": [
           {
            "colorbar": {
             "outlinewidth": 0,
             "ticks": ""
            },
            "type": "contourcarpet"
           }
          ],
          "heatmap": [
           {
            "colorbar": {
             "outlinewidth": 0,
             "ticks": ""
            },
            "colorscale": [
             [
              0,
              "#0d0887"
             ],
             [
              0.1111111111111111,
              "#46039f"
             ],
             [
              0.2222222222222222,
              "#7201a8"
             ],
             [
              0.3333333333333333,
              "#9c179e"
             ],
             [
              0.4444444444444444,
              "#bd3786"
             ],
             [
              0.5555555555555556,
              "#d8576b"
             ],
             [
              0.6666666666666666,
              "#ed7953"
             ],
             [
              0.7777777777777778,
              "#fb9f3a"
             ],
             [
              0.8888888888888888,
              "#fdca26"
             ],
             [
              1,
              "#f0f921"
             ]
            ],
            "type": "heatmap"
           }
          ],
          "heatmapgl": [
           {
            "colorbar": {
             "outlinewidth": 0,
             "ticks": ""
            },
            "colorscale": [
             [
              0,
              "#0d0887"
             ],
             [
              0.1111111111111111,
              "#46039f"
             ],
             [
              0.2222222222222222,
              "#7201a8"
             ],
             [
              0.3333333333333333,
              "#9c179e"
             ],
             [
              0.4444444444444444,
              "#bd3786"
             ],
             [
              0.5555555555555556,
              "#d8576b"
             ],
             [
              0.6666666666666666,
              "#ed7953"
             ],
             [
              0.7777777777777778,
              "#fb9f3a"
             ],
             [
              0.8888888888888888,
              "#fdca26"
             ],
             [
              1,
              "#f0f921"
             ]
            ],
            "type": "heatmapgl"
           }
          ],
          "histogram": [
           {
            "marker": {
             "pattern": {
              "fillmode": "overlay",
              "size": 10,
              "solidity": 0.2
             }
            },
            "type": "histogram"
           }
          ],
          "histogram2d": [
           {
            "colorbar": {
             "outlinewidth": 0,
             "ticks": ""
            },
            "colorscale": [
             [
              0,
              "#0d0887"
             ],
             [
              0.1111111111111111,
              "#46039f"
             ],
             [
              0.2222222222222222,
              "#7201a8"
             ],
             [
              0.3333333333333333,
              "#9c179e"
             ],
             [
              0.4444444444444444,
              "#bd3786"
             ],
             [
              0.5555555555555556,
              "#d8576b"
             ],
             [
              0.6666666666666666,
              "#ed7953"
             ],
             [
              0.7777777777777778,
              "#fb9f3a"
             ],
             [
              0.8888888888888888,
              "#fdca26"
             ],
             [
              1,
              "#f0f921"
             ]
            ],
            "type": "histogram2d"
           }
          ],
          "histogram2dcontour": [
           {
            "colorbar": {
             "outlinewidth": 0,
             "ticks": ""
            },
            "colorscale": [
             [
              0,
              "#0d0887"
             ],
             [
              0.1111111111111111,
              "#46039f"
             ],
             [
              0.2222222222222222,
              "#7201a8"
             ],
             [
              0.3333333333333333,
              "#9c179e"
             ],
             [
              0.4444444444444444,
              "#bd3786"
             ],
             [
              0.5555555555555556,
              "#d8576b"
             ],
             [
              0.6666666666666666,
              "#ed7953"
             ],
             [
              0.7777777777777778,
              "#fb9f3a"
             ],
             [
              0.8888888888888888,
              "#fdca26"
             ],
             [
              1,
              "#f0f921"
             ]
            ],
            "type": "histogram2dcontour"
           }
          ],
          "mesh3d": [
           {
            "colorbar": {
             "outlinewidth": 0,
             "ticks": ""
            },
            "type": "mesh3d"
           }
          ],
          "parcoords": [
           {
            "line": {
             "colorbar": {
              "outlinewidth": 0,
              "ticks": ""
             }
            },
            "type": "parcoords"
           }
          ],
          "pie": [
           {
            "automargin": true,
            "type": "pie"
           }
          ],
          "scatter": [
           {
            "fillpattern": {
             "fillmode": "overlay",
             "size": 10,
             "solidity": 0.2
            },
            "type": "scatter"
           }
          ],
          "scatter3d": [
           {
            "line": {
             "colorbar": {
              "outlinewidth": 0,
              "ticks": ""
             }
            },
            "marker": {
             "colorbar": {
              "outlinewidth": 0,
              "ticks": ""
             }
            },
            "type": "scatter3d"
           }
          ],
          "scattercarpet": [
           {
            "marker": {
             "colorbar": {
              "outlinewidth": 0,
              "ticks": ""
             }
            },
            "type": "scattercarpet"
           }
          ],
          "scattergeo": [
           {
            "marker": {
             "colorbar": {
              "outlinewidth": 0,
              "ticks": ""
             }
            },
            "type": "scattergeo"
           }
          ],
          "scattergl": [
           {
            "marker": {
             "colorbar": {
              "outlinewidth": 0,
              "ticks": ""
             }
            },
            "type": "scattergl"
           }
          ],
          "scattermapbox": [
           {
            "marker": {
             "colorbar": {
              "outlinewidth": 0,
              "ticks": ""
             }
            },
            "type": "scattermapbox"
           }
          ],
          "scatterpolar": [
           {
            "marker": {
             "colorbar": {
              "outlinewidth": 0,
              "ticks": ""
             }
            },
            "type": "scatterpolar"
           }
          ],
          "scatterpolargl": [
           {
            "marker": {
             "colorbar": {
              "outlinewidth": 0,
              "ticks": ""
             }
            },
            "type": "scatterpolargl"
           }
          ],
          "scatterternary": [
           {
            "marker": {
             "colorbar": {
              "outlinewidth": 0,
              "ticks": ""
             }
            },
            "type": "scatterternary"
           }
          ],
          "surface": [
           {
            "colorbar": {
             "outlinewidth": 0,
             "ticks": ""
            },
            "colorscale": [
             [
              0,
              "#0d0887"
             ],
             [
              0.1111111111111111,
              "#46039f"
             ],
             [
              0.2222222222222222,
              "#7201a8"
             ],
             [
              0.3333333333333333,
              "#9c179e"
             ],
             [
              0.4444444444444444,
              "#bd3786"
             ],
             [
              0.5555555555555556,
              "#d8576b"
             ],
             [
              0.6666666666666666,
              "#ed7953"
             ],
             [
              0.7777777777777778,
              "#fb9f3a"
             ],
             [
              0.8888888888888888,
              "#fdca26"
             ],
             [
              1,
              "#f0f921"
             ]
            ],
            "type": "surface"
           }
          ],
          "table": [
           {
            "cells": {
             "fill": {
              "color": "#EBF0F8"
             },
             "line": {
              "color": "white"
             }
            },
            "header": {
             "fill": {
              "color": "#C8D4E3"
             },
             "line": {
              "color": "white"
             }
            },
            "type": "table"
           }
          ]
         },
         "layout": {
          "annotationdefaults": {
           "arrowcolor": "#2a3f5f",
           "arrowhead": 0,
           "arrowwidth": 1
          },
          "autotypenumbers": "strict",
          "coloraxis": {
           "colorbar": {
            "outlinewidth": 0,
            "ticks": ""
           }
          },
          "colorscale": {
           "diverging": [
            [
             0,
             "#8e0152"
            ],
            [
             0.1,
             "#c51b7d"
            ],
            [
             0.2,
             "#de77ae"
            ],
            [
             0.3,
             "#f1b6da"
            ],
            [
             0.4,
             "#fde0ef"
            ],
            [
             0.5,
             "#f7f7f7"
            ],
            [
             0.6,
             "#e6f5d0"
            ],
            [
             0.7,
             "#b8e186"
            ],
            [
             0.8,
             "#7fbc41"
            ],
            [
             0.9,
             "#4d9221"
            ],
            [
             1,
             "#276419"
            ]
           ],
           "sequential": [
            [
             0,
             "#0d0887"
            ],
            [
             0.1111111111111111,
             "#46039f"
            ],
            [
             0.2222222222222222,
             "#7201a8"
            ],
            [
             0.3333333333333333,
             "#9c179e"
            ],
            [
             0.4444444444444444,
             "#bd3786"
            ],
            [
             0.5555555555555556,
             "#d8576b"
            ],
            [
             0.6666666666666666,
             "#ed7953"
            ],
            [
             0.7777777777777778,
             "#fb9f3a"
            ],
            [
             0.8888888888888888,
             "#fdca26"
            ],
            [
             1,
             "#f0f921"
            ]
           ],
           "sequentialminus": [
            [
             0,
             "#0d0887"
            ],
            [
             0.1111111111111111,
             "#46039f"
            ],
            [
             0.2222222222222222,
             "#7201a8"
            ],
            [
             0.3333333333333333,
             "#9c179e"
            ],
            [
             0.4444444444444444,
             "#bd3786"
            ],
            [
             0.5555555555555556,
             "#d8576b"
            ],
            [
             0.6666666666666666,
             "#ed7953"
            ],
            [
             0.7777777777777778,
             "#fb9f3a"
            ],
            [
             0.8888888888888888,
             "#fdca26"
            ],
            [
             1,
             "#f0f921"
            ]
           ]
          },
          "colorway": [
           "#636efa",
           "#EF553B",
           "#00cc96",
           "#ab63fa",
           "#FFA15A",
           "#19d3f3",
           "#FF6692",
           "#B6E880",
           "#FF97FF",
           "#FECB52"
          ],
          "font": {
           "color": "#2a3f5f"
          },
          "geo": {
           "bgcolor": "white",
           "lakecolor": "white",
           "landcolor": "#E5ECF6",
           "showlakes": true,
           "showland": true,
           "subunitcolor": "white"
          },
          "hoverlabel": {
           "align": "left"
          },
          "hovermode": "closest",
          "mapbox": {
           "style": "light"
          },
          "paper_bgcolor": "white",
          "plot_bgcolor": "#E5ECF6",
          "polar": {
           "angularaxis": {
            "gridcolor": "white",
            "linecolor": "white",
            "ticks": ""
           },
           "bgcolor": "#E5ECF6",
           "radialaxis": {
            "gridcolor": "white",
            "linecolor": "white",
            "ticks": ""
           }
          },
          "scene": {
           "xaxis": {
            "backgroundcolor": "#E5ECF6",
            "gridcolor": "white",
            "gridwidth": 2,
            "linecolor": "white",
            "showbackground": true,
            "ticks": "",
            "zerolinecolor": "white"
           },
           "yaxis": {
            "backgroundcolor": "#E5ECF6",
            "gridcolor": "white",
            "gridwidth": 2,
            "linecolor": "white",
            "showbackground": true,
            "ticks": "",
            "zerolinecolor": "white"
           },
           "zaxis": {
            "backgroundcolor": "#E5ECF6",
            "gridcolor": "white",
            "gridwidth": 2,
            "linecolor": "white",
            "showbackground": true,
            "ticks": "",
            "zerolinecolor": "white"
           }
          },
          "shapedefaults": {
           "line": {
            "color": "#2a3f5f"
           }
          },
          "ternary": {
           "aaxis": {
            "gridcolor": "white",
            "linecolor": "white",
            "ticks": ""
           },
           "baxis": {
            "gridcolor": "white",
            "linecolor": "white",
            "ticks": ""
           },
           "bgcolor": "#E5ECF6",
           "caxis": {
            "gridcolor": "white",
            "linecolor": "white",
            "ticks": ""
           }
          },
          "title": {
           "x": 0.05
          },
          "xaxis": {
           "automargin": true,
           "gridcolor": "white",
           "linecolor": "white",
           "ticks": "",
           "title": {
            "standoff": 15
           },
           "zerolinecolor": "white",
           "zerolinewidth": 2
          },
          "yaxis": {
           "automargin": true,
           "gridcolor": "white",
           "linecolor": "white",
           "ticks": "",
           "title": {
            "standoff": 15
           },
           "zerolinecolor": "white",
           "zerolinewidth": 2
          }
         }
        },
        "xaxis": {
         "anchor": "y",
         "domain": [
          0,
          1
         ],
         "title": {
          "text": "Data Series"
         }
        },
        "yaxis": {
         "anchor": "x",
         "domain": [
          0,
          1
         ],
         "title": {
          "text": "Electricity Generation"
         }
        }
       }
      }
     },
     "metadata": {},
     "output_type": "display_data"
    }
   ],
   "source": [
    "fig.show()"
   ]
  },
  {
   "cell_type": "code",
   "execution_count": null,
   "metadata": {},
   "outputs": [],
   "source": []
  }
 ],
 "metadata": {
  "kernelspec": {
   "display_name": "Python 3",
   "language": "python",
   "name": "python3"
  },
  "language_info": {
   "codemirror_mode": {
    "name": "ipython",
    "version": 3
   },
   "file_extension": ".py",
   "mimetype": "text/x-python",
   "name": "python",
   "nbconvert_exporter": "python",
   "pygments_lexer": "ipython3",
   "version": "3.9.10 (tags/v3.9.10:f2f3f53, Jan 17 2022, 15:14:21) [MSC v.1929 64 bit (AMD64)]"
  },
  "orig_nbformat": 4,
  "vscode": {
   "interpreter": {
    "hash": "6c789a6d546d9f652c091bb5ffbce22294d5fffc1749e524096347beed62f20e"
   }
  }
 },
 "nbformat": 4,
 "nbformat_minor": 2
}
